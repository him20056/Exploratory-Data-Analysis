{
  "nbformat": 4,
  "nbformat_minor": 0,
  "metadata": {
    "colab": {
      "name": "Covid19_analysis.ipynb",
      "provenance": [],
      "collapsed_sections": [],
      "authorship_tag": "ABX9TyPy7vSqTlmatONtId75qQPT"
    },
    "kernelspec": {
      "name": "python3",
      "display_name": "Python 3"
    }
  },
  "cells": [
    {
      "cell_type": "code",
      "metadata": {
        "id": "aBzCRR_p2bX2",
        "colab_type": "code",
        "outputId": "8d9b6aaf-0003-4f70-f8c2-f3eaed3c6f46",
        "colab": {
          "base_uri": "https://localhost:8080/",
          "height": 71
        }
      },
      "source": [
        "import pandas as pd\n",
        "import json\n",
        "import numpy as np\n",
        "import matplotlib.pyplot as plt\n",
        "import seaborn as sns\n",
        "from datetime import datetime"
      ],
      "execution_count": 1,
      "outputs": [
        {
          "output_type": "stream",
          "text": [
            "/usr/local/lib/python3.6/dist-packages/statsmodels/tools/_testing.py:19: FutureWarning: pandas.util.testing is deprecated. Use the functions in the public API at pandas.testing instead.\n",
            "  import pandas.util.testing as tm\n"
          ],
          "name": "stderr"
        }
      ]
    },
    {
      "cell_type": "code",
      "metadata": {
        "id": "i2J6gIps2sZ9",
        "colab_type": "code",
        "colab": {}
      },
      "source": [
        "df = pd.read_json(\"https://api.covid19india.org/raw_data.json\")"
      ],
      "execution_count": 0,
      "outputs": []
    },
    {
      "cell_type": "code",
      "metadata": {
        "id": "Eb1fJ7E_930I",
        "colab_type": "code",
        "colab": {}
      },
      "source": [
        "data = pd.json_normalize(df['raw_data'])"
      ],
      "execution_count": 0,
      "outputs": []
    },
    {
      "cell_type": "code",
      "metadata": {
        "id": "wx6Nw8drPkPx",
        "colab_type": "code",
        "colab": {}
      },
      "source": [
        "#data['dateannounced'] = data['dateannounced'].apply(lambda x: datetime.strptime(x, '%d/%m/%Y').date())\n",
        "data['statuschangedate'] = data[data['statuschangedate'] != \"\"]['statuschangedate'].apply(lambda x: datetime.strptime(x, '%d/%m/%Y').date())"
      ],
      "execution_count": 0,
      "outputs": []
    },
    {
      "cell_type": "code",
      "metadata": {
        "id": "S1GYC0lfUxkG",
        "colab_type": "code",
        "colab": {}
      },
      "source": [
        "data['dateannounced'] = data[data['dateannounced'] != \"\"]['dateannounced'].apply(lambda x: datetime.strptime(x, '%d/%m/%Y').date())"
      ],
      "execution_count": 0,
      "outputs": []
    },
    {
      "cell_type": "code",
      "metadata": {
        "id": "zc9vYxO4TATw",
        "colab_type": "code",
        "colab": {}
      },
      "source": [
        "data = data.dropna()"
      ],
      "execution_count": 0,
      "outputs": []
    },
    {
      "cell_type": "code",
      "metadata": {
        "id": "5IIUUoBdNG7w",
        "colab_type": "code",
        "outputId": "2f8a672d-0ee0-4498-e81e-d9d7a62a6eb2",
        "colab": {
          "base_uri": "https://localhost:8080/",
          "height": 34
        }
      },
      "source": [
        "#first case in India\n",
        "print(\"First case in India detected on:  {}\".format(str(min(data['dateannounced']))))"
      ],
      "execution_count": 7,
      "outputs": [
        {
          "output_type": "stream",
          "text": [
            "First case in India detected on:  2020-01-30\n"
          ],
          "name": "stdout"
        }
      ]
    },
    {
      "cell_type": "code",
      "metadata": {
        "id": "h7nO1_bo78rR",
        "colab_type": "code",
        "outputId": "7f6c5b79-a118-413c-cc5b-e8be4f53005a",
        "colab": {
          "base_uri": "https://localhost:8080/",
          "height": 34
        }
      },
      "source": [
        "print(\"Total Cases till date: {}\".format(data.count()[0]))"
      ],
      "execution_count": 8,
      "outputs": [
        {
          "output_type": "stream",
          "text": [
            "Total Cases till date: 4668\n"
          ],
          "name": "stdout"
        }
      ]
    },
    {
      "cell_type": "code",
      "metadata": {
        "id": "l6DB2jKHQ1S1",
        "colab_type": "code",
        "outputId": "4382ac0d-bb27-4616-aa17-42304ee33567",
        "colab": {
          "base_uri": "https://localhost:8080/",
          "height": 428
        }
      },
      "source": [
        "plt.figure(figsize=(15, 7))\n",
        "plt.plot(data['dateannounced'])\n",
        "plt.show()"
      ],
      "execution_count": 9,
      "outputs": [
        {
          "output_type": "display_data",
          "data": {
            "image/png": "[encoded data removed]",
            "text/plain": [
              "<Figure size 1080x504 with 1 Axes>"
            ]
          },
          "metadata": {
            "tags": []
          }
        }
      ]
    },
    {
      "cell_type": "code",
      "metadata": {
        "id": "-TNxNecu3DDy",
        "colab_type": "code",
        "outputId": "7748e38f-47c5-482e-ae1f-c11db7facc12",
        "colab": {
          "base_uri": "https://localhost:8080/",
          "height": 255
        }
      },
      "source": [
        "# data=data[data[\"agebracket\"]!=\"\"]\n",
        "# data[\"agebracket\"] = data[\"agebracket\"].apply(lambda x: (int(str(x[0:2]))+int(str(x[3:5])))/2 if len(x) == 5 else x)\n",
        "data_based_on_age = data[data[\"agebracket\"].astype(str).str.isdigit()]\n",
        "data_based_on_age.info"
      ],
      "execution_count": 10,
      "outputs": [
        {
          "output_type": "execute_result",
          "data": {
            "text/plain": [
              "<bound method DataFrame.info of      agebracket  ... typeoftransmission\n",
              "0            20  ...           Imported\n",
              "3            45  ...           Imported\n",
              "4            24  ...           Imported\n",
              "5            69  ...           Imported\n",
              "6            55  ...           Imported\n",
              "...         ...  ...                ...\n",
              "4373         43  ...                   \n",
              "4501         19  ...                   \n",
              "4682         45  ...                   \n",
              "4683         70  ...                   \n",
              "4756         32  ...                   \n",
              "\n",
              "[946 rows x 20 columns]>"
            ]
          },
          "metadata": {
            "tags": []
          },
          "execution_count": 10
        }
      ]
    },
    {
      "cell_type": "code",
      "metadata": {
        "id": "ieEYMeH6_oLY",
        "colab_type": "code",
        "outputId": "b76a78bb-e90b-4eed-f85f-1a9586ebd590",
        "colab": {
          "base_uri": "https://localhost:8080/",
          "height": 119
        }
      },
      "source": [
        "data_based_on_age[\"agebracket\"] = data_based_on_age[\"agebracket\"].apply(pd.to_numeric)"
      ],
      "execution_count": 11,
      "outputs": [
        {
          "output_type": "stream",
          "text": [
            "/usr/local/lib/python3.6/dist-packages/ipykernel_launcher.py:1: SettingWithCopyWarning: \n",
            "A value is trying to be set on a copy of a slice from a DataFrame.\n",
            "Try using .loc[row_indexer,col_indexer] = value instead\n",
            "\n",
            "See the caveats in the documentation: https://pandas.pydata.org/pandas-docs/stable/user_guide/indexing.html#returning-a-view-versus-a-copy\n",
            "  \"\"\"Entry point for launching an IPython kernel.\n"
          ],
          "name": "stderr"
        }
      ]
    },
    {
      "cell_type": "code",
      "metadata": {
        "id": "xNt2p6W--6b_",
        "colab_type": "code",
        "outputId": "5cdbbefd-d46c-4dc7-b064-96dc5c127c55",
        "colab": {
          "base_uri": "https://localhost:8080/",
          "height": 296
        }
      },
      "source": [
        "plt.hist(data_based_on_age[\"agebracket\"], bins=20)\n",
        "plt.ylabel(\"No. of patients\")\n",
        "plt.xlabel(\"Age group\")"
      ],
      "execution_count": 12,
      "outputs": [
        {
          "output_type": "execute_result",
          "data": {
            "text/plain": [
              "Text(0.5, 0, 'Age group')"
            ]
          },
          "metadata": {
            "tags": []
          },
          "execution_count": 12
        },
        {
          "output_type": "display_data",
          "data": {
            "image/png": "[encoded data removed]",
            "text/plain": [
              "<Figure size 432x288 with 1 Axes>"
            ]
          },
          "metadata": {
            "tags": []
          }
        }
      ]
    },
    {
      "cell_type": "code",
      "metadata": {
        "id": "gpt3VcUoA6na",
        "colab_type": "code",
        "outputId": "85e3d7e7-4e5a-4faa-9f5d-08308248c179",
        "colab": {
          "base_uri": "https://localhost:8080/",
          "height": 297
        }
      },
      "source": [
        "data_based_on_age.describe()"
      ],
      "execution_count": 13,
      "outputs": [
        {
          "output_type": "execute_result",
          "data": {
            "text/html": [
              "<div>\n",
              "<style scoped>\n",
              "    .dataframe tbody tr th:only-of-type {\n",
              "        vertical-align: middle;\n",
              "    }\n",
              "\n",
              "    .dataframe tbody tr th {\n",
              "        vertical-align: top;\n",
              "    }\n",
              "\n",
              "    .dataframe thead th {\n",
              "        text-align: right;\n",
              "    }\n",
              "</style>\n",
              "<table border=\"1\" class=\"dataframe\">\n",
              "  <thead>\n",
              "    <tr style=\"text-align: right;\">\n",
              "      <th></th>\n",
              "      <th>agebracket</th>\n",
              "    </tr>\n",
              "  </thead>\n",
              "  <tbody>\n",
              "    <tr>\n",
              "      <th>count</th>\n",
              "      <td>946.000000</td>\n",
              "    </tr>\n",
              "    <tr>\n",
              "      <th>mean</th>\n",
              "      <td>40.761099</td>\n",
              "    </tr>\n",
              "    <tr>\n",
              "      <th>std</th>\n",
              "      <td>16.735414</td>\n",
              "    </tr>\n",
              "    <tr>\n",
              "      <th>min</th>\n",
              "      <td>1.000000</td>\n",
              "    </tr>\n",
              "    <tr>\n",
              "      <th>25%</th>\n",
              "      <td>27.000000</td>\n",
              "    </tr>\n",
              "    <tr>\n",
              "      <th>50%</th>\n",
              "      <td>39.000000</td>\n",
              "    </tr>\n",
              "    <tr>\n",
              "      <th>75%</th>\n",
              "      <td>53.000000</td>\n",
              "    </tr>\n",
              "    <tr>\n",
              "      <th>max</th>\n",
              "      <td>96.000000</td>\n",
              "    </tr>\n",
              "  </tbody>\n",
              "</table>\n",
              "</div>"
            ],
            "text/plain": [
              "       agebracket\n",
              "count  946.000000\n",
              "mean    40.761099\n",
              "std     16.735414\n",
              "min      1.000000\n",
              "25%     27.000000\n",
              "50%     39.000000\n",
              "75%     53.000000\n",
              "max     96.000000"
            ]
          },
          "metadata": {
            "tags": []
          },
          "execution_count": 13
        }
      ]
    },
    {
      "cell_type": "code",
      "metadata": {
        "id": "R8eY1jHUHpag",
        "colab_type": "code",
        "outputId": "274928fc-2437-4c16-9fe0-aaf09e56f3ca",
        "colab": {
          "base_uri": "https://localhost:8080/",
          "height": 337
        }
      },
      "source": [
        "data['detectedstate'].value_counts().plot(kind='barh', figsize=(15,5))"
      ],
      "execution_count": 14,
      "outputs": [
        {
          "output_type": "execute_result",
          "data": {
            "text/plain": [
              "<matplotlib.axes._subplots.AxesSubplot at 0x7fa5d68b0748>"
            ]
          },
          "metadata": {
            "tags": []
          },
          "execution_count": 14
        },
        {
          "output_type": "display_data",
          "data": {
            "image/png": "[encoded data removed]",
            "text/plain": [
              "<Figure size 1080x360 with 1 Axes>"
            ]
          },
          "metadata": {
            "tags": []
          }
        }
      ]
    },
    {
      "cell_type": "code",
      "metadata": {
        "id": "XeNOLBzDJT7E",
        "colab_type": "code",
        "outputId": "37e7575f-6f1a-40b3-f9c4-3e9f37de3f68",
        "colab": {
          "base_uri": "https://localhost:8080/",
          "height": 320
        }
      },
      "source": [
        "data['gender'].value_counts().plot(kind='pie', figsize=(15,5))"
      ],
      "execution_count": 15,
      "outputs": [
        {
          "output_type": "execute_result",
          "data": {
            "text/plain": [
              "<matplotlib.axes._subplots.AxesSubplot at 0x7fa5d680ef28>"
            ]
          },
          "metadata": {
            "tags": []
          },
          "execution_count": 15
        },
        {
          "output_type": "display_data",
          "data": {
            "image/png": "[encoded data removed]",
            "text/plain": [
              "<Figure size 1080x360 with 1 Axes>"
            ]
          },
          "metadata": {
            "tags": []
          }
        }
      ]
    },
    {
      "cell_type": "code",
      "metadata": {
        "id": "_tRqktbALHS3",
        "colab_type": "code",
        "outputId": "cd0af078-35af-49a7-c1cc-f5a03c73eca5",
        "colab": {
          "base_uri": "https://localhost:8080/",
          "height": 337
        }
      },
      "source": [
        "#Life expectancy\n",
        "data['currentstatus'].value_counts().plot(kind='barh', figsize=(15,5))\n"
      ],
      "execution_count": 16,
      "outputs": [
        {
          "output_type": "execute_result",
          "data": {
            "text/plain": [
              "<matplotlib.axes._subplots.AxesSubplot at 0x7fa5d6780358>"
            ]
          },
          "metadata": {
            "tags": []
          },
          "execution_count": 16
        },
        {
          "output_type": "display_data",
          "data": {
            "image/png": "[encoded data removed]",
            "text/plain": [
              "<Figure size 1080x360 with 1 Axes>"
            ]
          },
          "metadata": {
            "tags": []
          }
        }
      ]
    },
    {
      "cell_type": "code",
      "metadata": {
        "id": "GDgQUeZIL_jP",
        "colab_type": "code",
        "outputId": "c43c2382-e370-4705-ab54-e93d9547a14c",
        "colab": {
          "base_uri": "https://localhost:8080/",
          "height": 85
        }
      },
      "source": [
        "#Life expectancy in Male\n",
        "data[data['gender']=='M']['currentstatus'].value_counts()\n"
      ],
      "execution_count": 17,
      "outputs": [
        {
          "output_type": "execute_result",
          "data": {
            "text/plain": [
              "Hospitalized    971\n",
              "Recovered        46\n",
              "Deceased         16\n",
              "Name: currentstatus, dtype: int64"
            ]
          },
          "metadata": {
            "tags": []
          },
          "execution_count": 17
        }
      ]
    },
    {
      "cell_type": "code",
      "metadata": {
        "id": "PqYy_l_sMO9c",
        "colab_type": "code",
        "outputId": "fbc14786-a63f-4361-de6e-28a1f4201d44",
        "colab": {
          "base_uri": "https://localhost:8080/",
          "height": 85
        }
      },
      "source": [
        "#Life expectancy in Female\n",
        "data[data['gender']=='F']['currentstatus'].value_counts()\n"
      ],
      "execution_count": 18,
      "outputs": [
        {
          "output_type": "execute_result",
          "data": {
            "text/plain": [
              "Hospitalized    254\n",
              "Recovered        25\n",
              "Deceased          7\n",
              "Name: currentstatus, dtype: int64"
            ]
          },
          "metadata": {
            "tags": []
          },
          "execution_count": 18
        }
      ]
    },
    {
      "cell_type": "code",
      "metadata": {
        "id": "HVO3--NUFwkR",
        "colab_type": "code",
        "colab": {
          "base_uri": "https://localhost:8080/",
          "height": 119
        },
        "outputId": "533deb35-69c4-42b3-de74-17ff62fbd019"
      },
      "source": [
        "#Top five affected District\n",
        "data['detectedstate'].value_counts().head(5)"
      ],
      "execution_count": 37,
      "outputs": [
        {
          "output_type": "execute_result",
          "data": {
            "text/plain": [
              "Maharashtra    770\n",
              "Tamil Nadu     621\n",
              "Delhi          525\n",
              "Telangana      364\n",
              "Kerala         327\n",
              "Name: detectedstate, dtype: int64"
            ]
          },
          "metadata": {
            "tags": []
          },
          "execution_count": 37
        }
      ]
    },
    {
      "cell_type": "code",
      "metadata": {
        "id": "b66CTjWCU3pj",
        "colab_type": "code",
        "outputId": "9fdf8949-a904-4b87-f5e7-89c86854bf62",
        "colab": {
          "base_uri": "https://localhost:8080/",
          "height": 459
        }
      },
      "source": [
        "#Top ten affected District\n",
        "data['detecteddistrict'].value_counts().head(25)"
      ],
      "execution_count": 19,
      "outputs": [
        {
          "output_type": "execute_result",
          "data": {
            "text/plain": [
              "                       875\n",
              "Mumbai                 455\n",
              "Kasaragod              152\n",
              "Indore                 151\n",
              "Pune                   132\n",
              "Chennai                113\n",
              "Jaipur                 100\n",
              "Hyderabad               87\n",
              "Thane                   78\n",
              "Kurnool                 74\n",
              "Ahmadabad               64\n",
              "Coimbatore              63\n",
              "Bhopal                  61\n",
              "Gautam Buddha Nagar     61\n",
              "Bengaluru               55\n",
              "Kannur                  51\n",
              "Agra                    49\n",
              "Dindigul                45\n",
              "S.P.S. Nellore          42\n",
              "Tirunelveli             38\n",
              "Mysuru                  35\n",
              "Evacuees                35\n",
              "Khordha                 32\n",
              "Guntur                  32\n",
              "Tiruchirappalli         31\n",
              "Name: detecteddistrict, dtype: int64"
            ]
          },
          "metadata": {
            "tags": []
          },
          "execution_count": 19
        }
      ]
    },
    {
      "cell_type": "code",
      "metadata": {
        "id": "GSUociIiWFpf",
        "colab_type": "code",
        "outputId": "c621ecf4-6ca5-4f0f-cbed-c7afc3d7ed68",
        "colab": {
          "base_uri": "https://localhost:8080/",
          "height": 204
        }
      },
      "source": [
        "#top reasons behind affection in India\n",
        "data['notes'].value_counts().head(10)"
      ],
      "execution_count": 20,
      "outputs": [
        {
          "output_type": "execute_result",
          "data": {
            "text/plain": [
              "Details awaited                                      1132\n",
              "                                                     1119\n",
              "Attended Delhi Religious Conference                   642\n",
              "Details Awaited                                       432\n",
              "Travelled from Dubai                                   79\n",
              "Local Transmission                                     54\n",
              "Travelled from UK                                      26\n",
              "Travelled from Dubai, UAE                              25\n",
              "attended religious event Tablighi Jamaat in delhi      24\n",
              "Contact transmission                                   23\n",
              "Name: notes, dtype: int64"
            ]
          },
          "metadata": {
            "tags": []
          },
          "execution_count": 20
        }
      ]
    },
    {
      "cell_type": "code",
      "metadata": {
        "id": "c0ni2umvWgF6",
        "colab_type": "code",
        "outputId": "d496fe08-50f5-4a3d-b76b-63da0cfec67b",
        "colab": {
          "base_uri": "https://localhost:8080/",
          "height": 102
        }
      },
      "source": [
        "data['typeoftransmission'].value_counts().head(10)"
      ],
      "execution_count": 21,
      "outputs": [
        {
          "output_type": "execute_result",
          "data": {
            "text/plain": [
              "            2836\n",
              "TBD          807\n",
              "Imported     544\n",
              "Local        481\n",
              "Name: typeoftransmission, dtype: int64"
            ]
          },
          "metadata": {
            "tags": []
          },
          "execution_count": 21
        }
      ]
    },
    {
      "cell_type": "code",
      "metadata": {
        "id": "zZ3Ijf2HXSS0",
        "colab_type": "code",
        "outputId": "dc44816b-e4a1-492c-c415-3d31e91f0cc5",
        "colab": {
          "base_uri": "https://localhost:8080/",
          "height": 507
        }
      },
      "source": [
        "#Top reasons behind corona afefction in Chennai\n",
        "print(data[data['detecteddistrict']=='Chennai']['notes'].value_counts().head(10))\n",
        "data[data['detecteddistrict']=='Chennai']['notes'].value_counts().head(10).plot(kind='pie', figsize=(15,5))"
      ],
      "execution_count": 22,
      "outputs": [
        {
          "output_type": "stream",
          "text": [
            "Attended Delhi Religious Conference          67\n",
            "Contact of Patient, ID Unknown                9\n",
            "Details Awaited                               4\n",
            "Family contact of TN-P42                      4\n",
            "No Info                                       3\n",
            "Contact of Positive Patient                   2\n",
            "No Travel History                             2\n",
            "Travelled from USA via London on 17 March     1\n",
            "Family member of TN-P14                       1\n",
            "Travelled from New Zealand                    1\n",
            "Name: notes, dtype: int64\n"
          ],
          "name": "stdout"
        },
        {
          "output_type": "execute_result",
          "data": {
            "text/plain": [
              "<matplotlib.axes._subplots.AxesSubplot at 0x7fa5d66e5710>"
            ]
          },
          "metadata": {
            "tags": []
          },
          "execution_count": 22
        },
        {
          "output_type": "display_data",
          "data": {
            "image/png": "[encoded data removed]",
            "text/plain": [
              "<Figure size 1080x360 with 1 Axes>"
            ]
          },
          "metadata": {
            "tags": []
          }
        }
      ]
    },
    {
      "cell_type": "code",
      "metadata": {
        "id": "7e29J0W1XjH9",
        "colab_type": "code",
        "outputId": "9ee72b7f-6962-4d31-ffa1-05acbcc0e1fa",
        "colab": {
          "base_uri": "https://localhost:8080/",
          "height": 507
        }
      },
      "source": [
        "#Top reasons behind corona afefction in TamilNadu\n",
        "print(data[data['statecode']=='TN']['notes'].value_counts().head(10))\n",
        "data[data['statecode']=='TN']['notes'].value_counts().head(10).plot(kind='pie', figsize=(15,5))"
      ],
      "execution_count": 23,
      "outputs": [
        {
          "output_type": "stream",
          "text": [
            "Attended Delhi Religious Conference                              507\n",
            "Contact of Patient, ID Unknown                                    18\n",
            "Travelled from Delhi                                              10\n",
            "Travelled from Delhi and Contact history with TN-P5 and TN-P6     10\n",
            "Contact of Positive Patient                                        5\n",
            "Family contact of TN-P42                                           4\n",
            "Details Awaited                                                    4\n",
            "No Info                                                            4\n",
            "Indonesian Tourist                                                 4\n",
            "                                                                   3\n",
            "Name: notes, dtype: int64\n"
          ],
          "name": "stdout"
        },
        {
          "output_type": "execute_result",
          "data": {
            "text/plain": [
              "<matplotlib.axes._subplots.AxesSubplot at 0x7fa5d66cb908>"
            ]
          },
          "metadata": {
            "tags": []
          },
          "execution_count": 23
        },
        {
          "output_type": "display_data",
          "data": {
            "image/png": "[encoded data removed]",
            "text/plain": [
              "<Figure size 1080x360 with 1 Axes>"
            ]
          },
          "metadata": {
            "tags": []
          }
        }
      ]
    },
    {
      "cell_type": "code",
      "metadata": {
        "id": "lh-WX_I9dBbj",
        "colab_type": "code",
        "colab": {}
      },
      "source": [
        "data['time_taken_to_change_status'] = data['statuschangedate'] - data['dateannounced']"
      ],
      "execution_count": 0,
      "outputs": []
    },
    {
      "cell_type": "code",
      "metadata": {
        "id": "vs8Ea5vYZSDB",
        "colab_type": "code",
        "outputId": "0819bb08-5e81-4f14-bafc-74b229345816",
        "colab": {
          "base_uri": "https://localhost:8080/",
          "height": 68
        }
      },
      "source": [
        "#Average time taken by to recover\n",
        "time_taken_to_recover = data[(data['currentstatus'] == 'Recovered') & (data['time_taken_to_change_status'] != '0 days')]['time_taken_to_change_status']\n",
        "print(\"Average time taken to recover {}\".format(str(time_taken_to_recover.mode())))"
      ],
      "execution_count": 25,
      "outputs": [
        {
          "output_type": "stream",
          "text": [
            "Average time taken to recover 0    8 days\n",
            "1   25 days\n",
            "dtype: timedelta64[ns]\n"
          ],
          "name": "stdout"
        }
      ]
    },
    {
      "cell_type": "code",
      "metadata": {
        "id": "HLuZ1gG6b8Hu",
        "colab_type": "code",
        "outputId": "a762eda4-7fee-4aef-8a6d-21dc57532c6e",
        "colab": {
          "base_uri": "https://localhost:8080/",
          "height": 51
        }
      },
      "source": [
        "#Average time taken by to get deceased\n",
        "time_taken_to_decease = data[(data['currentstatus'] == 'Deceased') & (data['time_taken_to_change_status'] != '0 days')]['time_taken_to_change_status']\n",
        "print(\"Average time taken to get deceased {}\".format(str(time_taken_to_decease.mean())))\n",
        "print(\"Maximum time taken in case of deceased {}\".format(str(time_taken_to_decease.max())))"
      ],
      "execution_count": 26,
      "outputs": [
        {
          "output_type": "stream",
          "text": [
            "Average time taken to get deceased 2 days 03:00:00\n",
            "Maximum time taken in case of deceased 6 days 00:00:00\n"
          ],
          "name": "stdout"
        }
      ]
    },
    {
      "cell_type": "code",
      "metadata": {
        "id": "n-n2LdFEDLFl",
        "colab_type": "code",
        "colab": {
          "base_uri": "https://localhost:8080/",
          "height": 296
        },
        "outputId": "67cb1e31-cdaf-4467-a475-412d3c5779e3"
      },
      "source": [
        "plt.hist(data_based_on_age[data_based_on_age['currentstatus'] == \"Recovered\"][\"agebracket\"], bins=20)\n",
        "plt.ylabel(\"No. of patients recovered\")\n",
        "plt.xlabel(\"Age group\")"
      ],
      "execution_count": 35,
      "outputs": [
        {
          "output_type": "execute_result",
          "data": {
            "text/plain": [
              "Text(0.5, 0, 'Age group')"
            ]
          },
          "metadata": {
            "tags": []
          },
          "execution_count": 35
        },
        {
          "output_type": "display_data",
          "data": {
            "image/png": "[encoded data removed]",
            "text/plain": [
              "<Figure size 432x288 with 1 Axes>"
            ]
          },
          "metadata": {
            "tags": []
          }
        }
      ]
    },
    {
      "cell_type": "code",
      "metadata": {
        "id": "ExBIbas3Eo-t",
        "colab_type": "code",
        "colab": {
          "base_uri": "https://localhost:8080/",
          "height": 296
        },
        "outputId": "0bd40150-6870-4aed-d5a7-d5566418c8f2"
      },
      "source": [
        "plt.hist(data_based_on_age[data_based_on_age['currentstatus'] == \"Deceased\"][\"agebracket\"], bins=20)\n",
        "plt.ylabel(\"No. of patients got deceased\")\n",
        "plt.xlabel(\"Age group\")"
      ],
      "execution_count": 36,
      "outputs": [
        {
          "output_type": "execute_result",
          "data": {
            "text/plain": [
              "Text(0.5, 0, 'Age group')"
            ]
          },
          "metadata": {
            "tags": []
          },
          "execution_count": 36
        },
        {
          "output_type": "display_data",
          "data": {
            "image/png": "[encoded data removed]",
            "text/plain": [
              "<Figure size 432x288 with 1 Axes>"
            ]
          },
          "metadata": {
            "tags": []
          }
        }
      ]
    },
    {
      "cell_type": "code",
      "metadata": {
        "id": "iIKLyLREgQ7J",
        "colab_type": "code",
        "colab": {}
      },
      "source": [
        "from datetime import date\n",
        "data['patient_duration'] = date.today() - data['dateannounced']"
      ],
      "execution_count": 0,
      "outputs": []
    },
    {
      "cell_type": "code",
      "metadata": {
        "id": "Xt7OLdROiIQG",
        "colab_type": "code",
        "outputId": "1c677ad1-a6f1-41dd-a08e-6738d79393cf",
        "colab": {
          "base_uri": "https://localhost:8080/",
          "height": 578
        }
      },
      "source": [
        "#Hospitalized since\n",
        "data[data['currentstatus'] == 'Hospitalized']['patient_duration'].value_counts()"
      ],
      "execution_count": 28,
      "outputs": [
        {
          "output_type": "execute_result",
          "data": {
            "text/plain": [
              "1 days     601\n",
              "3 days     559\n",
              "0 days     487\n",
              "4 days     486\n",
              "2 days     477\n",
              "5 days     424\n",
              "6 days     305\n",
              "7 days     186\n",
              "10 days    149\n",
              "9 days     138\n",
              "8 days     104\n",
              "14 days     86\n",
              "12 days     83\n",
              "16 days     69\n",
              "13 days     68\n",
              "11 days     65\n",
              "15 days     62\n",
              "17 days     56\n",
              "19 days     22\n",
              "18 days     22\n",
              "23 days     16\n",
              "20 days     14\n",
              "21 days     12\n",
              "26 days      7\n",
              "24 days      6\n",
              "33 days      5\n",
              "25 days      5\n",
              "27 days      4\n",
              "28 days      4\n",
              "22 days      3\n",
              "30 days      2\n",
              "32 days      1\n",
              "Name: patient_duration, dtype: int64"
            ]
          },
          "metadata": {
            "tags": []
          },
          "execution_count": 28
        }
      ]
    },
    {
      "cell_type": "code",
      "metadata": {
        "id": "JtOb761WkxVi",
        "colab_type": "code",
        "outputId": "c361fa2a-2c58-4fc0-ddf7-ab28b0cdeea2",
        "colab": {
          "base_uri": "https://localhost:8080/",
          "height": 969
        }
      },
      "source": [
        "#Top reasons behind corona afefction in top affected cities\n",
        "for city in [\"Mumbai\", \"Kasaragod\", \"Jaipur\", \"Indore\", \"Coimbatore\", \"Kannur\", \"Bengaluru\"]:\n",
        "  print(\"\\n City name: \",city)\n",
        "  print(data[data['detecteddistrict']==city]['notes'].value_counts().head(5))"
      ],
      "execution_count": 29,
      "outputs": [
        {
          "output_type": "stream",
          "text": [
            "\n",
            " City name:  Mumbai\n",
            "                                   206\n",
            "Details awaited                    164\n",
            "Details Awaited                     48\n",
            "Travel history, details awaited      3\n",
            "Contact Transmission                 3\n",
            "Name: notes, dtype: int64\n",
            "\n",
            " City name:  Kasaragod\n",
            "Travelled from Dubai                     47\n",
            "Travelled from Dubai, UAE                19\n",
            "Contact transmission                     17\n",
            "Details awaited                          12\n",
            "Contact transmission. details awaited    11\n",
            "Name: notes, dtype: int64\n",
            "\n",
            " City name:  Jaipur\n",
            "Details Awaited                                                                                            38\n",
            "Contacts of first positive in Ramganj                                                                      13\n",
            "Details awaited                                                                                            12\n",
            "Family member of Patient, ID Unknown                                                                        8\n",
            "Contacts of a person who had tested positive earlier, this person has infected 17 of his close contacts     7\n",
            "Name: notes, dtype: int64\n",
            "\n",
            " City name:  Indore\n",
            "Details awaited                                                            96\n",
            "Details Awaited                                                            32\n",
            "                                                                           15\n",
            "contacts of earlier positive cases of #COVID19 & have no travel history     4\n",
            "Details awaited, (family)                                                   3\n",
            "Name: notes, dtype: int64\n",
            "\n",
            " City name:  Coimbatore\n",
            "Attended Delhi Religious Conference                                 57\n",
            "Contact of TN-P43                                                    3\n",
            "Travelled from Spain, Delhi, Bengaluru, Coimbatore on 15-03-2020     1\n",
            "Contact of TN-P26                                                    1\n",
            "No Info                                                              1\n",
            "Name: notes, dtype: int64\n",
            "\n",
            " City name:  Kannur\n",
            "Details awaited                                                               12\n",
            "Travelled from Dubai, UAE                                                      5\n",
            "Travelled from Dubai                                                           4\n",
            "Travelled from Dubai Air India AI 938 landed at Kozhikode                      3\n",
            "Travelled from Dubai to Bangalore (Emirates EK 564) and from there by Road     3\n",
            "Name: notes, dtype: int64\n",
            "\n",
            " City name:  Bengaluru\n",
            "Travelled from Dubai                    3\n",
            "Travelled from London                   2\n",
            "Details Awaited                         2\n",
            "Contact (Domestic Worker) of KA-P25     2\n",
            "Travelled from UK                       2\n",
            "Name: notes, dtype: int64\n"
          ],
          "name": "stdout"
        }
      ]
    },
    {
      "cell_type": "markdown",
      "metadata": {
        "id": "-inPBCPV267j",
        "colab_type": "text"
      },
      "source": [
        "Conclusion: Metro cities are badly affected by Corona virus.\n",
        "Kasargod is in worst condition even it is not metro city.\n",
        "The main reason behind spread of Corona virus is Delhi religious conference and persons travelled from UK and Dubai. Average time taken to recover of patients is around 25 days. If patients is alive more than 5 days, then chances of recovery are high."
      ]
    }
  ]
}