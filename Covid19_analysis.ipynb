{
  "nbformat": 4,
  "nbformat_minor": 0,
  "metadata": {
    "colab": {
      "name": "Covid19_analysis.ipynb",
      "provenance": [],
      "collapsed_sections": [],
      "authorship_tag": "ABX9TyPy7vSqTlmatONtId75qQPT"
    },
    "kernelspec": {
      "name": "python3",
      "display_name": "Python 3"
    }
  },
  "cells": [
    {
      "cell_type": "code",
      "metadata": {
        "id": "aBzCRR_p2bX2",
        "colab_type": "code",
        "outputId": "f1c3ad54-8375-400b-e6f1-25a92585d85c",
        "colab": {
          "base_uri": "https://localhost:8080/",
          "height": 71
        }
      },
      "source": [
        "import pandas as pd\n",
        "import json\n",
        "import numpy as np\n",
        "import matplotlib.pyplot as plt\n",
        "import seaborn as sns\n",
        "from datetime import datetime"
      ],
      "execution_count": 1,
      "outputs": [
        {
          "output_type": "stream",
          "text": [
            "/usr/local/lib/python3.6/dist-packages/statsmodels/tools/_testing.py:19: FutureWarning: pandas.util.testing is deprecated. Use the functions in the public API at pandas.testing instead.\n",
            "  import pandas.util.testing as tm\n"
          ],
          "name": "stderr"
        }
      ]
    },
    {
      "cell_type": "code",
      "metadata": {
        "id": "i2J6gIps2sZ9",
        "colab_type": "code",
        "colab": {}
      },
      "source": [
        "df = pd.read_json(\"https://api.covid19india.org/raw_data.json\")"
      ],
      "execution_count": 0,
      "outputs": []
    },
    {
      "cell_type": "code",
      "metadata": {
        "id": "Eb1fJ7E_930I",
        "colab_type": "code",
        "colab": {}
      },
      "source": [
        "data = pd.json_normalize(df['raw_data'])"
      ],
      "execution_count": 0,
      "outputs": []
    },
    {
      "cell_type": "code",
      "metadata": {
        "id": "wx6Nw8drPkPx",
        "colab_type": "code",
        "colab": {}
      },
      "source": [
        "#data['dateannounced'] = data['dateannounced'].apply(lambda x: datetime.strptime(x, '%d/%m/%Y').date())\n",
        "data['statuschangedate'] = data[data['statuschangedate'] != \"\"]['statuschangedate'].apply(lambda x: datetime.strptime(x, '%d/%m/%Y').date())"
      ],
      "execution_count": 0,
      "outputs": []
    },
    {
      "cell_type": "code",
      "metadata": {
        "id": "S1GYC0lfUxkG",
        "colab_type": "code",
        "colab": {}
      },
      "source": [
        "data['dateannounced'] = data[data['dateannounced'] != \"\"]['dateannounced'].apply(lambda x: datetime.strptime(x, '%d/%m/%Y').date())"
      ],
      "execution_count": 0,
      "outputs": []
    },
    {
      "cell_type": "code",
      "metadata": {
        "id": "zc9vYxO4TATw",
        "colab_type": "code",
        "colab": {}
      },
      "source": [
        "data = data.dropna()"
      ],
      "execution_count": 0,
      "outputs": []
    },
    {
      "cell_type": "code",
      "metadata": {
        "id": "5IIUUoBdNG7w",
        "colab_type": "code",
        "outputId": "1991eb81-dea7-4c46-e973-7d4ae359bdeb",
        "colab": {
          "base_uri": "https://localhost:8080/",
          "height": 34
        }
      },
      "source": [
        "#first case in India\n",
        "print(\"First case in India detected on:  {}\".format(str(min(data['dateannounced']))))"
      ],
      "execution_count": 7,
      "outputs": [
        {
          "output_type": "stream",
          "text": [
            "First case in India detected on:  2020-01-30\n"
          ],
          "name": "stdout"
        }
      ]
    },
    {
      "cell_type": "code",
      "metadata": {
        "id": "h7nO1_bo78rR",
        "colab_type": "code",
        "outputId": "2736b45e-2495-4f5e-b334-222abf61668f",
        "colab": {
          "base_uri": "https://localhost:8080/",
          "height": 34
        }
      },
      "source": [
        "print(\"Total Cases till date: {}\".format(data.count()[0]))"
      ],
      "execution_count": 8,
      "outputs": [
        {
          "output_type": "stream",
          "text": [
            "Total Cases till date: 8214\n"
          ],
          "name": "stdout"
        }
      ]
    },
    {
      "cell_type": "code",
      "metadata": {
        "id": "l6DB2jKHQ1S1",
        "colab_type": "code",
        "outputId": "440c1efa-7d8d-4711-f108-7e04191f08f5",
        "colab": {
          "base_uri": "https://localhost:8080/",
          "height": 428
        }
      },
      "source": [
        "plt.figure(figsize=(15, 7))\n",
        "plt.plot(data['dateannounced'])\n",
        "plt.show()"
      ],
      "execution_count": 9,
      "outputs": [
        {
          "output_type": "display_data",
          "data": {
            "image/png": "[encoded data removed]",
            "text/plain": [
              "<Figure size 1080x504 with 1 Axes>"
            ]
          },
          "metadata": {
            "tags": [],
            "needs_background": "light"
          }
        }
      ]
    },
    {
      "cell_type": "code",
      "metadata": {
        "id": "-TNxNecu3DDy",
        "colab_type": "code",
        "outputId": "6afefb43-4d2e-40ee-95fc-022236159d58",
        "colab": {
          "base_uri": "https://localhost:8080/",
          "height": 255
        }
      },
      "source": [
        "# data=data[data[\"agebracket\"]!=\"\"]\n",
        "# data[\"agebracket\"] = data[\"agebracket\"].apply(lambda x: (int(str(x[0:2]))+int(str(x[3:5])))/2 if len(x) == 5 else x)\n",
        "data_based_on_age = data[data[\"agebracket\"].astype(str).str.isdigit()]\n",
        "data_based_on_age.info"
      ],
      "execution_count": 10,
      "outputs": [
        {
          "output_type": "execute_result",
          "data": {
            "text/plain": [
              "<bound method DataFrame.info of      agebracket  ... typeoftransmission\n",
              "0            20  ...           Imported\n",
              "3            45  ...           Imported\n",
              "4            24  ...           Imported\n",
              "5            69  ...           Imported\n",
              "6            55  ...           Imported\n",
              "...         ...  ...                ...\n",
              "7681         27  ...              Local\n",
              "7682         31  ...              Local\n",
              "7683         26  ...              Local\n",
              "7893         45  ...                   \n",
              "8007         10  ...              Local\n",
              "\n",
              "[1171 rows x 20 columns]>"
            ]
          },
          "metadata": {
            "tags": []
          },
          "execution_count": 10
        }
      ]
    },
    {
      "cell_type": "code",
      "metadata": {
        "id": "ieEYMeH6_oLY",
        "colab_type": "code",
        "outputId": "57e43e91-5ee8-4430-ded4-546cf80fe825",
        "colab": {
          "base_uri": "https://localhost:8080/",
          "height": 119
        }
      },
      "source": [
        "data_based_on_age[\"agebracket\"] = data_based_on_age[\"agebracket\"].apply(pd.to_numeric)"
      ],
      "execution_count": 11,
      "outputs": [
        {
          "output_type": "stream",
          "text": [
            "/usr/local/lib/python3.6/dist-packages/ipykernel_launcher.py:1: SettingWithCopyWarning: \n",
            "A value is trying to be set on a copy of a slice from a DataFrame.\n",
            "Try using .loc[row_indexer,col_indexer] = value instead\n",
            "\n",
            "See the caveats in the documentation: https://pandas.pydata.org/pandas-docs/stable/user_guide/indexing.html#returning-a-view-versus-a-copy\n",
            "  \"\"\"Entry point for launching an IPython kernel.\n"
          ],
          "name": "stderr"
        }
      ]
    },
    {
      "cell_type": "code",
      "metadata": {
        "id": "xNt2p6W--6b_",
        "colab_type": "code",
        "outputId": "46b25511-d9fe-45e0-efaf-ccdf85cc7397",
        "colab": {
          "base_uri": "https://localhost:8080/",
          "height": 296
        }
      },
      "source": [
        "plt.hist(data_based_on_age[\"agebracket\"], bins=20)\n",
        "plt.ylabel(\"No. of patients\")\n",
        "plt.xlabel(\"Age group\")"
      ],
      "execution_count": 12,
      "outputs": [
        {
          "output_type": "execute_result",
          "data": {
            "text/plain": [
              "Text(0.5, 0, 'Age group')"
            ]
          },
          "metadata": {
            "tags": []
          },
          "execution_count": 12
        },
        {
          "output_type": "display_data",
          "data": {
            "image/png": "[encoded data removed]",
            "text/plain": [
              "<Figure size 432x288 with 1 Axes>"
            ]
          },
          "metadata": {
            "tags": [],
            "needs_background": "light"
          }
        }
      ]
    },
    {
      "cell_type": "code",
      "metadata": {
        "id": "gpt3VcUoA6na",
        "colab_type": "code",
        "outputId": "606cbf8b-eab8-4f6c-83ba-ab33e15fe1d8",
        "colab": {
          "base_uri": "https://localhost:8080/",
          "height": 297
        }
      },
      "source": [
        "data_based_on_age.describe()"
      ],
      "execution_count": 13,
      "outputs": [
        {
          "output_type": "execute_result",
          "data": {
            "text/html": [
              "<div>\n",
              "<style scoped>\n",
              "    .dataframe tbody tr th:only-of-type {\n",
              "        vertical-align: middle;\n",
              "    }\n",
              "\n",
              "    .dataframe tbody tr th {\n",
              "        vertical-align: top;\n",
              "    }\n",
              "\n",
              "    .dataframe thead th {\n",
              "        text-align: right;\n",
              "    }\n",
              "</style>\n",
              "<table border=\"1\" class=\"dataframe\">\n",
              "  <thead>\n",
              "    <tr style=\"text-align: right;\">\n",
              "      <th></th>\n",
              "      <th>agebracket</th>\n",
              "    </tr>\n",
              "  </thead>\n",
              "  <tbody>\n",
              "    <tr>\n",
              "      <th>count</th>\n",
              "      <td>1171.000000</td>\n",
              "    </tr>\n",
              "    <tr>\n",
              "      <th>mean</th>\n",
              "      <td>40.374039</td>\n",
              "    </tr>\n",
              "    <tr>\n",
              "      <th>std</th>\n",
              "      <td>16.872427</td>\n",
              "    </tr>\n",
              "    <tr>\n",
              "      <th>min</th>\n",
              "      <td>1.000000</td>\n",
              "    </tr>\n",
              "    <tr>\n",
              "      <th>25%</th>\n",
              "      <td>27.000000</td>\n",
              "    </tr>\n",
              "    <tr>\n",
              "      <th>50%</th>\n",
              "      <td>39.000000</td>\n",
              "    </tr>\n",
              "    <tr>\n",
              "      <th>75%</th>\n",
              "      <td>53.000000</td>\n",
              "    </tr>\n",
              "    <tr>\n",
              "      <th>max</th>\n",
              "      <td>96.000000</td>\n",
              "    </tr>\n",
              "  </tbody>\n",
              "</table>\n",
              "</div>"
            ],
            "text/plain": [
              "        agebracket\n",
              "count  1171.000000\n",
              "mean     40.374039\n",
              "std      16.872427\n",
              "min       1.000000\n",
              "25%      27.000000\n",
              "50%      39.000000\n",
              "75%      53.000000\n",
              "max      96.000000"
            ]
          },
          "metadata": {
            "tags": []
          },
          "execution_count": 13
        }
      ]
    },
    {
      "cell_type": "code",
      "metadata": {
        "id": "R8eY1jHUHpag",
        "colab_type": "code",
        "outputId": "3a6ad56b-0fae-4e87-c2f0-4ab48146479f",
        "colab": {
          "base_uri": "https://localhost:8080/",
          "height": 337
        }
      },
      "source": [
        "data['detectedstate'].value_counts().plot(kind='barh', figsize=(15,5))"
      ],
      "execution_count": 14,
      "outputs": [
        {
          "output_type": "execute_result",
          "data": {
            "text/plain": [
              "<matplotlib.axes._subplots.AxesSubplot at 0x7f0bd638f940>"
            ]
          },
          "metadata": {
            "tags": []
          },
          "execution_count": 14
        },
        {
          "output_type": "display_data",
          "data": {
            "image/png": "[encoded data removed]",
            "text/plain": [
              "<Figure size 1080x360 with 1 Axes>"
            ]
          },
          "metadata": {
            "tags": [],
            "needs_background": "light"
          }
        }
      ]
    },
    {
      "cell_type": "code",
      "metadata": {
        "id": "XeNOLBzDJT7E",
        "colab_type": "code",
        "outputId": "87de768d-6238-47d4-e780-53e3a3485cd4",
        "colab": {
          "base_uri": "https://localhost:8080/",
          "height": 320
        }
      },
      "source": [
        "data['gender'].value_counts().plot(kind='pie', figsize=(15,5))"
      ],
      "execution_count": 15,
      "outputs": [
        {
          "output_type": "execute_result",
          "data": {
            "text/plain": [
              "<matplotlib.axes._subplots.AxesSubplot at 0x7f0bd6277da0>"
            ]
          },
          "metadata": {
            "tags": []
          },
          "execution_count": 15
        },
        {
          "output_type": "display_data",
          "data": {
            "image/png": "[encoded data removed]",
            "text/plain": [
              "<Figure size 1080x360 with 1 Axes>"
            ]
          },
          "metadata": {
            "tags": []
          }
        }
      ]
    },
    {
      "cell_type": "code",
      "metadata": {
        "id": "_tRqktbALHS3",
        "colab_type": "code",
        "outputId": "cc1fc9e3-2468-4647-d543-e26f960a7d96",
        "colab": {
          "base_uri": "https://localhost:8080/",
          "height": 337
        }
      },
      "source": [
        "#Life expectancy\n",
        "data['currentstatus'].value_counts().plot(kind='barh', figsize=(15,5))\n"
      ],
      "execution_count": 16,
      "outputs": [
        {
          "output_type": "execute_result",
          "data": {
            "text/plain": [
              "<matplotlib.axes._subplots.AxesSubplot at 0x7f0bd6267240>"
            ]
          },
          "metadata": {
            "tags": []
          },
          "execution_count": 16
        },
        {
          "output_type": "display_data",
          "data": {
            "image/png": "[encoded data removed]",
            "text/plain": [
              "<Figure size 1080x360 with 1 Axes>"
            ]
          },
          "metadata": {
            "tags": [],
            "needs_background": "light"
          }
        }
      ]
    },
    {
      "cell_type": "code",
      "metadata": {
        "id": "GDgQUeZIL_jP",
        "colab_type": "code",
        "outputId": "e895cfde-e233-4643-b2e8-a7f8f047d247",
        "colab": {
          "base_uri": "https://localhost:8080/",
          "height": 85
        }
      },
      "source": [
        "#Life expectancy in Male\n",
        "data[data['gender']=='M']['currentstatus'].value_counts()\n"
      ],
      "execution_count": 17,
      "outputs": [
        {
          "output_type": "execute_result",
          "data": {
            "text/plain": [
              "Hospitalized    1330\n",
              "Recovered         62\n",
              "Deceased          20\n",
              "Name: currentstatus, dtype: int64"
            ]
          },
          "metadata": {
            "tags": []
          },
          "execution_count": 17
        }
      ]
    },
    {
      "cell_type": "code",
      "metadata": {
        "id": "PqYy_l_sMO9c",
        "colab_type": "code",
        "outputId": "81c9d9b1-83e0-48c0-b210-8f93fdf27a2b",
        "colab": {
          "base_uri": "https://localhost:8080/",
          "height": 85
        }
      },
      "source": [
        "#Life expectancy in Female\n",
        "data[data['gender']=='F']['currentstatus'].value_counts()\n"
      ],
      "execution_count": 18,
      "outputs": [
        {
          "output_type": "execute_result",
          "data": {
            "text/plain": [
              "Hospitalized    500\n",
              "Recovered        30\n",
              "Deceased          9\n",
              "Name: currentstatus, dtype: int64"
            ]
          },
          "metadata": {
            "tags": []
          },
          "execution_count": 18
        }
      ]
    },
    {
      "cell_type": "code",
      "metadata": {
        "id": "HVO3--NUFwkR",
        "colab_type": "code",
        "outputId": "64cb4c62-0546-4364-9a38-4cf556f67489",
        "colab": {
          "base_uri": "https://localhost:8080/",
          "height": 119
        }
      },
      "source": [
        "#Top five affected District\n",
        "data['detectedstate'].value_counts().head(5)"
      ],
      "execution_count": 19,
      "outputs": [
        {
          "output_type": "execute_result",
          "data": {
            "text/plain": [
              "Maharashtra    1663\n",
              "Delhi          1069\n",
              "Tamil Nadu      969\n",
              "Rajasthan       674\n",
              "Telangana       487\n",
              "Name: detectedstate, dtype: int64"
            ]
          },
          "metadata": {
            "tags": []
          },
          "execution_count": 19
        }
      ]
    },
    {
      "cell_type": "code",
      "metadata": {
        "id": "b66CTjWCU3pj",
        "colab_type": "code",
        "outputId": "9b7b2a5b-5d05-4d1f-afec-0c8127fdffec",
        "colab": {
          "base_uri": "https://localhost:8080/",
          "height": 459
        }
      },
      "source": [
        "#Top ten affected District\n",
        "data['detecteddistrict'].value_counts().head(25)"
      ],
      "execution_count": 20,
      "outputs": [
        {
          "output_type": "execute_result",
          "data": {
            "text/plain": [
              "                       1785\n",
              "Mumbai                  929\n",
              "Jaipur                  286\n",
              "Ahmadabad               243\n",
              "Pune                    239\n",
              "Indore                  235\n",
              "Chennai                 182\n",
              "Kasaragod               166\n",
              "Thane                   128\n",
              "Bhopal                  116\n",
              "Hyderabad               104\n",
              "Coimbatore               97\n",
              "Vadodara                 95\n",
              "Agra                     92\n",
              "Kurnool                  82\n",
              "Guntur                   75\n",
              "Kannur                   71\n",
              "Bengaluru                68\n",
              "Gautam Buddha Nagar      62\n",
              "Erode                    60\n",
              "Tirunelveli              58\n",
              "Dindigul                 55\n",
              "S.A.S. Nagar             50\n",
              "Evacuees                 49\n",
              "Meerut                   48\n",
              "Name: detecteddistrict, dtype: int64"
            ]
          },
          "metadata": {
            "tags": []
          },
          "execution_count": 20
        }
      ]
    },
    {
      "cell_type": "code",
      "metadata": {
        "id": "GSUociIiWFpf",
        "colab_type": "code",
        "outputId": "e0fd6a69-d991-49a1-ed79-0f639a17941a",
        "colab": {
          "base_uri": "https://localhost:8080/",
          "height": 204
        }
      },
      "source": [
        "#top reasons behind affection in India\n",
        "data['notes'].value_counts().head(10)"
      ],
      "execution_count": 21,
      "outputs": [
        {
          "output_type": "execute_result",
          "data": {
            "text/plain": [
              "Details awaited                    4362\n",
              "                                   1089\n",
              "Travelled to Delhi                  863\n",
              "Details Awaited                     377\n",
              "Travelled from Dubai                 90\n",
              "Local Transmission                   89\n",
              "Travelled from UK                    26\n",
              "Have identified contact history      26\n",
              "Travelled from Dubai, UAE            25\n",
              "Contact transmission                 23\n",
              "Name: notes, dtype: int64"
            ]
          },
          "metadata": {
            "tags": []
          },
          "execution_count": 21
        }
      ]
    },
    {
      "cell_type": "code",
      "metadata": {
        "id": "c0ni2umvWgF6",
        "colab_type": "code",
        "outputId": "28536cd6-f5fe-4461-d3a1-bb24a0ed3c77",
        "colab": {
          "base_uri": "https://localhost:8080/",
          "height": 119
        }
      },
      "source": [
        "data['typeoftransmission'].value_counts().head(10)"
      ],
      "execution_count": 22,
      "outputs": [
        {
          "output_type": "execute_result",
          "data": {
            "text/plain": [
              "             5382\n",
              "Local        1606\n",
              "TBD           630\n",
              "Imported      594\n",
              "Imported        2\n",
              "Name: typeoftransmission, dtype: int64"
            ]
          },
          "metadata": {
            "tags": []
          },
          "execution_count": 22
        }
      ]
    },
    {
      "cell_type": "code",
      "metadata": {
        "id": "zZ3Ijf2HXSS0",
        "colab_type": "code",
        "outputId": "73846cf5-8a52-4305-a8be-984eafe9ee2b",
        "colab": {
          "base_uri": "https://localhost:8080/",
          "height": 507
        }
      },
      "source": [
        "#Top reasons behind corona afefction in Chennai\n",
        "print(data[data['detecteddistrict']=='Chennai']['notes'].value_counts().head(10))\n",
        "data[data['detecteddistrict']=='Chennai']['notes'].value_counts().head(10).plot(kind='pie', figsize=(15,5))"
      ],
      "execution_count": 23,
      "outputs": [
        {
          "output_type": "stream",
          "text": [
            "Details awaited                                                            73\n",
            "Travelled to Delhi                                                         67\n",
            "Contact of Patient, ID Unknown                                              9\n",
            "Family contact of TN-P42                                                    4\n",
            "Details Awaited                                                             4\n",
            "No Info                                                                     3\n",
            "Contact of Positive Patient                                                 2\n",
            "Travelled from USA via London on 17 March                                   1\n",
            "Travelled from London via Bangaloe then to Chennai by Car on 14th March     1\n",
            "Travelled to US                                                             1\n",
            "Name: notes, dtype: int64\n"
          ],
          "name": "stdout"
        },
        {
          "output_type": "execute_result",
          "data": {
            "text/plain": [
              "<matplotlib.axes._subplots.AxesSubplot at 0x7f0bd61d7278>"
            ]
          },
          "metadata": {
            "tags": []
          },
          "execution_count": 23
        },
        {
          "output_type": "display_data",
          "data": {
            "image/png": "[encoded data removed]",
            "text/plain": [
              "<Figure size 1080x360 with 1 Axes>"
            ]
          },
          "metadata": {
            "tags": []
          }
        }
      ]
    },
    {
      "cell_type": "code",
      "metadata": {
        "id": "7e29J0W1XjH9",
        "colab_type": "code",
        "outputId": "449cd653-f7cb-4146-ba24-8bdc794590f5",
        "colab": {
          "base_uri": "https://localhost:8080/",
          "height": 507
        }
      },
      "source": [
        "#Top reasons behind corona afefction in TamilNadu\n",
        "print(data[data['statecode']=='TN']['notes'].value_counts().head(10))\n",
        "data[data['statecode']=='TN']['notes'].value_counts().head(10).plot(kind='pie', figsize=(15,5))"
      ],
      "execution_count": 24,
      "outputs": [
        {
          "output_type": "stream",
          "text": [
            "Travelled to Delhi                                               506\n",
            "Details awaited                                                  349\n",
            "Contact of Patient, ID Unknown                                    18\n",
            "Travelled from Delhi and Contact history with TN-P5 and TN-P6     10\n",
            "Travelled from Delhi                                              10\n",
            "Contact of Positive Patient                                        5\n",
            "Family contact of TN-P42                                           4\n",
            "Indonesian Tourist                                                 4\n",
            "No Info                                                            4\n",
            "Details Awaited                                                    4\n",
            "Name: notes, dtype: int64\n"
          ],
          "name": "stdout"
        },
        {
          "output_type": "execute_result",
          "data": {
            "text/plain": [
              "<matplotlib.axes._subplots.AxesSubplot at 0x7f0bd61460f0>"
            ]
          },
          "metadata": {
            "tags": []
          },
          "execution_count": 24
        },
        {
          "output_type": "display_data",
          "data": {
            "image/png": "[encoded data removed]",
            "text/plain": [
              "<Figure size 1080x360 with 1 Axes>"
            ]
          },
          "metadata": {
            "tags": []
          }
        }
      ]
    },
    {
      "cell_type": "code",
      "metadata": {
        "id": "lh-WX_I9dBbj",
        "colab_type": "code",
        "colab": {}
      },
      "source": [
        "data['time_taken_to_change_status'] = data['statuschangedate'] - data['dateannounced']"
      ],
      "execution_count": 0,
      "outputs": []
    },
    {
      "cell_type": "code",
      "metadata": {
        "id": "vs8Ea5vYZSDB",
        "colab_type": "code",
        "outputId": "504d393f-62cf-4914-a3a3-589dffd7b626",
        "colab": {
          "base_uri": "https://localhost:8080/",
          "height": 68
        }
      },
      "source": [
        "#Average time taken by to recover\n",
        "time_taken_to_recover = data[(data['currentstatus'] == 'Recovered') & (data['time_taken_to_change_status'] != '0 days')]['time_taken_to_change_status']\n",
        "print(\"Average time taken to recover {}\".format(str(time_taken_to_recover.mode())))"
      ],
      "execution_count": 26,
      "outputs": [
        {
          "output_type": "stream",
          "text": [
            "Average time taken to recover 0    8 days\n",
            "1   25 days\n",
            "dtype: timedelta64[ns]\n"
          ],
          "name": "stdout"
        }
      ]
    },
    {
      "cell_type": "code",
      "metadata": {
        "id": "HLuZ1gG6b8Hu",
        "colab_type": "code",
        "outputId": "28026bc2-628d-464f-a1ef-dc58c87f78e1",
        "colab": {
          "base_uri": "https://localhost:8080/",
          "height": 51
        }
      },
      "source": [
        "#Average time taken by to get deceased\n",
        "time_taken_to_decease = data[(data['currentstatus'] == 'Deceased') & (data['time_taken_to_change_status'] != '0 days')]['time_taken_to_change_status']\n",
        "print(\"Average time taken to get deceased {}\".format(str(time_taken_to_decease.mean())))\n",
        "print(\"Maximum time taken in case of deceased {}\".format(str(time_taken_to_decease.max())))"
      ],
      "execution_count": 27,
      "outputs": [
        {
          "output_type": "stream",
          "text": [
            "Average time taken to get deceased 2 days 00:00:00\n",
            "Maximum time taken in case of deceased 6 days 00:00:00\n"
          ],
          "name": "stdout"
        }
      ]
    },
    {
      "cell_type": "code",
      "metadata": {
        "id": "n-n2LdFEDLFl",
        "colab_type": "code",
        "outputId": "49c231e6-95bf-408a-a6c5-d53dfddce382",
        "colab": {
          "base_uri": "https://localhost:8080/",
          "height": 296
        }
      },
      "source": [
        "plt.hist(data_based_on_age[data_based_on_age['currentstatus'] == \"Recovered\"][\"agebracket\"], bins=20)\n",
        "plt.ylabel(\"No. of patients recovered\")\n",
        "plt.xlabel(\"Age group\")"
      ],
      "execution_count": 28,
      "outputs": [
        {
          "output_type": "execute_result",
          "data": {
            "text/plain": [
              "Text(0.5, 0, 'Age group')"
            ]
          },
          "metadata": {
            "tags": []
          },
          "execution_count": 28
        },
        {
          "output_type": "display_data",
          "data": {
            "image/png": "[encoded data removed]",
            "text/plain": [
              "<Figure size 432x288 with 1 Axes>"
            ]
          },
          "metadata": {
            "tags": [],
            "needs_background": "light"
          }
        }
      ]
    },
    {
      "cell_type": "code",
      "metadata": {
        "id": "ExBIbas3Eo-t",
        "colab_type": "code",
        "outputId": "e403e1de-afe7-45d4-87ee-c786313d6b2e",
        "colab": {
          "base_uri": "https://localhost:8080/",
          "height": 296
        }
      },
      "source": [
        "plt.hist(data_based_on_age[data_based_on_age['currentstatus'] == \"Deceased\"][\"agebracket\"], bins=20)\n",
        "plt.ylabel(\"No. of patients got deceased\")\n",
        "plt.xlabel(\"Age group\")"
      ],
      "execution_count": 29,
      "outputs": [
        {
          "output_type": "execute_result",
          "data": {
            "text/plain": [
              "Text(0.5, 0, 'Age group')"
            ]
          },
          "metadata": {
            "tags": []
          },
          "execution_count": 29
        },
        {
          "output_type": "display_data",
          "data": {
            "image/png": "[encoded data removed]",
            "text/plain": [
              "<Figure size 432x288 with 1 Axes>"
            ]
          },
          "metadata": {
            "tags": [],
            "needs_background": "light"
          }
        }
      ]
    },
    {
      "cell_type": "code",
      "metadata": {
        "id": "iIKLyLREgQ7J",
        "colab_type": "code",
        "colab": {}
      },
      "source": [
        "from datetime import date\n",
        "data['patient_duration'] = date.today() - data['dateannounced']"
      ],
      "execution_count": 0,
      "outputs": []
    },
    {
      "cell_type": "code",
      "metadata": {
        "id": "Xt7OLdROiIQG",
        "colab_type": "code",
        "outputId": "17dfb37c-c8d7-4d36-daf0-8529dcca3a77",
        "colab": {
          "base_uri": "https://localhost:8080/",
          "height": 663
        }
      },
      "source": [
        "#Hospitalized since\n",
        "data[data['currentstatus'] == 'Hospitalized']['patient_duration'].value_counts()"
      ],
      "execution_count": 31,
      "outputs": [
        {
          "output_type": "execute_result",
          "data": {
            "text/plain": [
              "1 days     871\n",
              "2 days     813\n",
              "0 days     724\n",
              "6 days     599\n",
              "4 days     570\n",
              "3 days     564\n",
              "8 days     559\n",
              "5 days     488\n",
              "9 days     486\n",
              "7 days     476\n",
              "10 days    424\n",
              "11 days    305\n",
              "12 days    185\n",
              "15 days    147\n",
              "14 days    136\n",
              "13 days    104\n",
              "19 days     85\n",
              "17 days     81\n",
              "21 days     69\n",
              "18 days     62\n",
              "16 days     62\n",
              "20 days     59\n",
              "22 days     52\n",
              "24 days     22\n",
              "23 days     21\n",
              "25 days     14\n",
              "26 days     12\n",
              "28 days     11\n",
              "27 days      8\n",
              "31 days      8\n",
              "29 days      6\n",
              "38 days      5\n",
              "32 days      4\n",
              "33 days      4\n",
              "30 days      4\n",
              "35 days      2\n",
              "37 days      1\n",
              "Name: patient_duration, dtype: int64"
            ]
          },
          "metadata": {
            "tags": []
          },
          "execution_count": 31
        }
      ]
    },
    {
      "cell_type": "code",
      "metadata": {
        "id": "JtOb761WkxVi",
        "colab_type": "code",
        "outputId": "fa032121-05a3-4596-ad8a-387abeca56ab",
        "colab": {
          "base_uri": "https://localhost:8080/",
          "height": 952
        }
      },
      "source": [
        "#Top reasons behind corona afefction in top affected cities\n",
        "for city in [\"Mumbai\", \"Kasaragod\", \"Jaipur\", \"Indore\", \"Coimbatore\", \"Kannur\", \"Bengaluru\"]:\n",
        "  print(\"\\n City name: \",city)\n",
        "  print(data[data['detecteddistrict']==city]['notes'].value_counts().head(5))"
      ],
      "execution_count": 32,
      "outputs": [
        {
          "output_type": "stream",
          "text": [
            "\n",
            " City name:  Mumbai\n",
            "Details awaited                    646\n",
            "                                   206\n",
            "Details Awaited                     48\n",
            "Travel history, details awaited      3\n",
            "Contact Transmission                 2\n",
            "Name: notes, dtype: int64\n",
            "\n",
            " City name:  Kasaragod\n",
            "Travelled from Dubai                     57\n",
            "Travelled from Dubai, UAE                19\n",
            "Contact transmission                     17\n",
            "Details awaited                          17\n",
            "Contact transmission. details awaited    11\n",
            "Name: notes, dtype: int64\n",
            "\n",
            " City name:  Jaipur\n",
            "Details awaited                                                                                            198\n",
            "Details Awaited                                                                                             38\n",
            "Contacts of first positive in Ramganj                                                                       13\n",
            "Family member of Patient, ID Unknown                                                                         8\n",
            "Contacts of a person who had tested positive earlier, this person has infected 17 of his close contacts      7\n",
            "Name: notes, dtype: int64\n",
            "\n",
            " City name:  Indore\n",
            "Details awaited                                                            180\n",
            "Details Awaited                                                             32\n",
            "                                                                            15\n",
            "contacts of earlier positive cases of #COVID19 & have no travel history      4\n",
            "Details awaited, (family)                                                    3\n",
            "Name: notes, dtype: int64\n",
            "\n",
            " City name:  Coimbatore\n",
            "Travelled to Delhi                                                  57\n",
            "Details awaited                                                     38\n",
            "No Info                                                              1\n",
            "Travelled from Spain, Delhi, Bengaluru, Coimbatore on 15-03-2020     1\n",
            "Name: notes, dtype: int64\n",
            "\n",
            " City name:  Kannur\n",
            "Details awaited                                                               20\n",
            "Travelled from Dubai, UAE                                                      5\n",
            "Relative of P3830                                                              4\n",
            "Travelled from Dubai                                                           4\n",
            "Travelled from Dubai to Bangalore (Emirates EK 564) and from there by Road     3\n",
            "Name: notes, dtype: int64\n",
            "\n",
            " City name:  Bengaluru\n",
            "Travelled from Dubai     4\n",
            "Travelled from Delhi     3\n",
            "Travelled from London    2\n",
            "SARI                     2\n",
            "Details Awaited          2\n",
            "Name: notes, dtype: int64\n"
          ],
          "name": "stdout"
        }
      ]
    },
    {
      "cell_type": "markdown",
      "metadata": {
        "id": "-inPBCPV267j",
        "colab_type": "text"
      },
      "source": [
        "Conclusion: Metro cities are badly affected by Corona virus.\n",
        "Kasargod is in worst condition even it is not metro city.\n",
        "The main reason behind spread of Corona virus is Delhi religious conference and persons travelled from UK and Dubai. Average time taken to recover of patients is around 25 days. If patients is alive more than 5 days, then chances of recovery are high."
      ]
    }
  ]
}